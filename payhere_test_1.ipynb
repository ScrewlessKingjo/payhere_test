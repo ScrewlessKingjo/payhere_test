{
 "cells": [
  {
   "cell_type": "code",
   "execution_count": 6,
   "id": "4b5352fb",
   "metadata": {},
   "outputs": [
    {
     "name": "stdout",
     "output_type": "stream",
     "text": [
      "Rebecca는 총 27번 사용됨.\n"
     ]
    }
   ],
   "source": [
    "# 전체 내용에서 Rebecca 라는 단어가 몇번 나오는지 세는 가장 효율적인 파이썬 코드를 작성하시오. \n",
    "\n",
    "def find_rebecca(file_path):\n",
    "    with open(file_path, 'r', encoding='utf-8') as file:\n",
    "        text = file.read()\n",
    "\n",
    "    words_list = text.split()\n",
    "    rebecca_count = sum(1 for word in words_list if word.lower().strip('.,!?()[]{}\"\\'s') == \"rebecca\")\n",
    "\n",
    "    return rebecca_count\n",
    "\n",
    "file_path = 'example.txt'\n",
    "answer = find_rebecca(file_path)\n",
    "print(f\"Rebecca는 총 {answer}번 사용됨.\")\n"
   ]
  },
  {
   "cell_type": "code",
   "execution_count": 18,
   "id": "bdf2a37b",
   "metadata": {},
   "outputs": [
    {
     "name": "stdout",
     "output_type": "stream",
     "text": [
      "1. with: 27 번\n",
      "2. rebecca: 27 번\n",
      "3. that: 26 번\n",
      "4. fortune: 23 번\n",
      "5. family: 13 번\n"
     ]
    }
   ],
   "source": [
    "# 4글자 이상의 단어중, 가장 많이 나온 단어(case-insensitive) Top 5를 추출하는 가장 효율적인 파이썬 코드를 작성하시오. \n",
    "\n",
    "def find_top5(file_path):\n",
    "    \n",
    "    with open(file_path, 'r', encoding='utf-8') as file:\n",
    "        text = file.read()\n",
    "    words_list = text.split()\n",
    "    word_counts = {}\n",
    "    for word in words_list:\n",
    "        clean_word = word.lower().strip('.,!?()[]{}\"\\'s')\n",
    "        \n",
    "        if len(clean_word) >= 4:\n",
    "            if clean_word in word_counts:\n",
    "                word_counts[clean_word] += 1\n",
    "            else:\n",
    "                word_counts[clean_word] = 1\n",
    "\n",
    "    top_5_words = sorted(word_counts.items(), key=lambda x: x[1], reverse=True)[:5]\n",
    "    return top_5_words\n",
    "\n",
    "file_path = 'example.txt'\n",
    "answer = find_top5(file_path)\n",
    "for idx, item in enumerate(answer):\n",
    "    print(f'{idx+1}. {item[0]}: {item[1]} 번')\n"
   ]
  }
 ],
 "metadata": {
  "kernelspec": {
   "display_name": "Python 3 (ipykernel)",
   "language": "python",
   "name": "python3"
  },
  "language_info": {
   "codemirror_mode": {
    "name": "ipython",
    "version": 3
   },
   "file_extension": ".py",
   "mimetype": "text/x-python",
   "name": "python",
   "nbconvert_exporter": "python",
   "pygments_lexer": "ipython3",
   "version": "3.9.12"
  }
 },
 "nbformat": 4,
 "nbformat_minor": 5
}
